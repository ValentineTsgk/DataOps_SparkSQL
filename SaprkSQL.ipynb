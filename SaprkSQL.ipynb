{
 "cells": [
  {
   "cell_type": "code",
   "execution_count": 1,
   "metadata": {},
   "outputs": [
    {
     "name": "stderr",
     "output_type": "stream",
     "text": [
      "22/04/11 18:53:00 WARN Utils: Your hostname, MacBook-Air-Valentin.local resolves to a loopback address: 127.0.0.1; using 172.20.10.2 instead (on interface en0)\n",
      "22/04/11 18:53:00 WARN Utils: Set SPARK_LOCAL_IP if you need to bind to another address\n",
      "Using Spark's default log4j profile: org/apache/spark/log4j-defaults.properties\n",
      "Setting default log level to \"WARN\".\n",
      "To adjust logging level use sc.setLogLevel(newLevel). For SparkR, use setLogLevel(newLevel).\n",
      "22/04/11 18:53:01 WARN NativeCodeLoader: Unable to load native-hadoop library for your platform... using builtin-java classes where applicable\n"
     ]
    }
   ],
   "source": [
    "from pyspark.sql import SparkSession\n",
    "from pyspark.sql import functions as F\n",
    "from pyspark.sql import Window\n",
    "\n",
    "spark = SparkSession.builder.appName(\"CreateSession\").master('local').getOrCreate()"
   ]
  },
  {
   "cell_type": "code",
   "execution_count": 2,
   "metadata": {},
   "outputs": [
    {
     "name": "stderr",
     "output_type": "stream",
     "text": [
      "                                                                                \r"
     ]
    }
   ],
   "source": [
    "df = spark.read.option('header', True).option('sep', ',')\\\n",
    "    .option('inferSchema', True)\\\n",
    "    .csv('owid-covid-data.csv')\n"
   ]
  },
  {
   "cell_type": "code",
   "execution_count": 7,
   "metadata": {},
   "outputs": [
    {
     "name": "stdout",
     "output_type": "stream",
     "text": [
      "root\n",
      " |-- iso_code: string (nullable = true)\n",
      " |-- continent: string (nullable = true)\n",
      " |-- location: string (nullable = true)\n",
      " |-- date: string (nullable = true)\n",
      " |-- total_cases: double (nullable = true)\n",
      " |-- new_cases: double (nullable = true)\n",
      " |-- new_cases_smoothed: double (nullable = true)\n",
      " |-- total_deaths: double (nullable = true)\n",
      " |-- new_deaths: double (nullable = true)\n",
      " |-- new_deaths_smoothed: double (nullable = true)\n",
      " |-- total_cases_per_million: double (nullable = true)\n",
      " |-- new_cases_per_million: double (nullable = true)\n",
      " |-- new_cases_smoothed_per_million: double (nullable = true)\n",
      " |-- total_deaths_per_million: double (nullable = true)\n",
      " |-- new_deaths_per_million: double (nullable = true)\n",
      " |-- new_deaths_smoothed_per_million: double (nullable = true)\n",
      " |-- reproduction_rate: double (nullable = true)\n",
      " |-- icu_patients: double (nullable = true)\n",
      " |-- icu_patients_per_million: double (nullable = true)\n",
      " |-- hosp_patients: double (nullable = true)\n",
      " |-- hosp_patients_per_million: double (nullable = true)\n",
      " |-- weekly_icu_admissions: double (nullable = true)\n",
      " |-- weekly_icu_admissions_per_million: double (nullable = true)\n",
      " |-- weekly_hosp_admissions: double (nullable = true)\n",
      " |-- weekly_hosp_admissions_per_million: double (nullable = true)\n",
      " |-- new_tests: double (nullable = true)\n",
      " |-- total_tests: double (nullable = true)\n",
      " |-- total_tests_per_thousand: double (nullable = true)\n",
      " |-- new_tests_per_thousand: double (nullable = true)\n",
      " |-- new_tests_smoothed: double (nullable = true)\n",
      " |-- new_tests_smoothed_per_thousand: double (nullable = true)\n",
      " |-- positive_rate: double (nullable = true)\n",
      " |-- tests_per_case: double (nullable = true)\n",
      " |-- tests_units: string (nullable = true)\n",
      " |-- total_vaccinations: double (nullable = true)\n",
      " |-- people_vaccinated: double (nullable = true)\n",
      " |-- people_fully_vaccinated: double (nullable = true)\n",
      " |-- new_vaccinations: double (nullable = true)\n",
      " |-- new_vaccinations_smoothed: double (nullable = true)\n",
      " |-- total_vaccinations_per_hundred: double (nullable = true)\n",
      " |-- people_vaccinated_per_hundred: double (nullable = true)\n",
      " |-- people_fully_vaccinated_per_hundred: double (nullable = true)\n",
      " |-- new_vaccinations_smoothed_per_million: double (nullable = true)\n",
      " |-- stringency_index: double (nullable = true)\n",
      " |-- population: double (nullable = true)\n",
      " |-- population_density: double (nullable = true)\n",
      " |-- median_age: double (nullable = true)\n",
      " |-- aged_65_older: double (nullable = true)\n",
      " |-- aged_70_older: double (nullable = true)\n",
      " |-- gdp_per_capita: double (nullable = true)\n",
      " |-- extreme_poverty: double (nullable = true)\n",
      " |-- cardiovasc_death_rate: double (nullable = true)\n",
      " |-- diabetes_prevalence: double (nullable = true)\n",
      " |-- female_smokers: double (nullable = true)\n",
      " |-- male_smokers: double (nullable = true)\n",
      " |-- handwashing_facilities: double (nullable = true)\n",
      " |-- hospital_beds_per_thousand: double (nullable = true)\n",
      " |-- life_expectancy: double (nullable = true)\n",
      " |-- human_development_index: double (nullable = true)\n",
      "\n"
     ]
    }
   ],
   "source": [
    "df.printSchema()"
   ]
  },
  {
   "cell_type": "markdown",
   "metadata": {},
   "source": [
    "## 1. Выберите 15 стран с наибольшим процентом переболевших на 31 марта (в выходящем датасете необходимы колонки: iso_code, страна, процент переболевших)"
   ]
  },
  {
   "cell_type": "code",
   "execution_count": 64,
   "metadata": {},
   "outputs": [
    {
     "name": "stdout",
     "output_type": "stream",
     "text": [
      "+--------+----------+--------------------+\n",
      "|iso_code|  location|Процент переболевших|\n",
      "+--------+----------+--------------------+\n",
      "|     AND|   Andorra|  15.543907331909661|\n",
      "|     MNE|Montenegro|  14.523725364693295|\n",
      "|     CZE|   Czechia|  14.308848404077997|\n",
      "|     SMR|San Marino|  13.937179562732041|\n",
      "|     SVN|  Slovenia|  10.370805779121202|\n",
      "|     LUX|Luxembourg|   9.847342390123583|\n",
      "|     ISR|    Israel|   9.625106044786802|\n",
      "|     SRB|    Serbia|   8.826328557933492|\n",
      "|     BHR|   Bahrain|   8.488860079114566|\n",
      "|     PAN|    Panama|   8.228739065460761|\n",
      "|     PRT|  Portugal|   8.058699735120367|\n",
      "|     EST|   Estonia|   8.022681579659551|\n",
      "|     SWE|    Sweden|   7.969744347858805|\n",
      "|     LTU| Lithuania|   7.938864728274824|\n",
      "|     BEL|   Belgium|  7.6141694427149265|\n",
      "+--------+----------+--------------------+\n",
      "only showing top 15 rows\n",
      "\n"
     ]
    }
   ],
   "source": [
    "df.select('iso_code', 'location', \\\n",
    "         (F.col('total_cases').cast(\"int\") * 100/F.col('population').cast(\"int\")).alias(\"Процент переболевших\")\n",
    "         ).where(F.col('date') == '2021-03-31').orderBy(F.col(\"Процент переболевших\").desc()).show(15)"
   ]
  },
  {
   "cell_type": "markdown",
   "metadata": {},
   "source": [
    "## 2. Top 10 стран с максимальным зафиксированным кол-вом новых случаев за последнюю неделю марта 2021 в отсортированном порядке по убыванию\n",
    "(в выходящем датасете необходимы колонки: число, страна, кол-во новых случаев)"
   ]
  },
  {
   "cell_type": "code",
   "execution_count": 56,
   "metadata": {},
   "outputs": [
    {
     "name": "stderr",
     "output_type": "stream",
     "text": [
      "[Stage 75:>                                                         (0 + 1) / 1]\r"
     ]
    },
    {
     "name": "stdout",
     "output_type": "stream",
     "text": [
      "+----------+--------------------+--------------------+\n",
      "|     число|            location|кол-во новых случаев|\n",
      "+----------+--------------------+--------------------+\n",
      "|2021-03-25|              Brazil|            100158.0|\n",
      "|2021-03-26|             Hungary|             11265.0|\n",
      "|2021-03-30|              Serbia|              9983.0|\n",
      "|2021-03-30|              Greece|              4322.0|\n",
      "|2021-03-29|Bosnia and Herzeg...|              3755.0|\n",
      "|2021-03-26|               Kenya|              2008.0|\n",
      "|2021-03-31|     North Macedonia|              1511.0|\n",
      "|2021-03-25|       Cote d'Ivoire|               767.0|\n",
      "|2021-03-26|    Papua New Guinea|               551.0|\n",
      "|2021-03-28|           Mauritius|                62.0|\n",
      "+----------+--------------------+--------------------+\n",
      "\n"
     ]
    },
    {
     "name": "stderr",
     "output_type": "stream",
     "text": [
      "                                                                                \r"
     ]
    }
   ],
   "source": [
    "w = Window.partitionBy(\"location\")\n",
    "df.withColumn('число', F.first('date').over(w.orderBy(F.col('new_cases').desc())))\\\n",
    "    .withColumn('кол-во новых случаев', F.max('new_cases').over(w))\\\n",
    "    .where(~F.col(\"iso_code\").like('OWID_%'))\\\n",
    "    .select('число','location','кол-во новых случаев').dropDuplicates()\\\n",
    "    .where(F.col('число').between('2021-03-25','2021-03-31'))\\\n",
    "    .orderBy(F.col('кол-во новых случаев').desc()).show()\n",
    "    "
   ]
  },
  {
   "cell_type": "markdown",
   "metadata": {},
   "source": [
    "## 3. Посчитайте изменение случаев относительно предыдущего дня в России за последнюю неделю марта 2021. (например: в россии вчера было 9150 , сегодня 8763, итог: -387) (в выходящем датасете необходимы колонки: число, кол-во новых случаев вчера, кол-во новых случаев сегодня, дельта)"
   ]
  },
  {
   "cell_type": "code",
   "execution_count": 90,
   "metadata": {},
   "outputs": [
    {
     "name": "stderr",
     "output_type": "stream",
     "text": [
      "[Stage 99:>                                                         (0 + 1) / 1]\r"
     ]
    },
    {
     "name": "stdout",
     "output_type": "stream",
     "text": [
      "+----------+---------+----------+------+\n",
      "|      date|new_cases|yeastarday| delta|\n",
      "+----------+---------+----------+------+\n",
      "|2021-03-31|   8156.0|    8162.0|  -6.0|\n",
      "|2021-03-30|   8162.0|    8589.0|-427.0|\n",
      "|2021-03-29|   8589.0|    8979.0|-390.0|\n",
      "|2021-03-28|   8979.0|    8783.0| 196.0|\n",
      "|2021-03-27|   8783.0|    9073.0|-290.0|\n",
      "|2021-03-26|   9073.0|    9128.0| -55.0|\n",
      "|2021-03-25|   9128.0|    8769.0| 359.0|\n",
      "+----------+---------+----------+------+\n",
      "\n"
     ]
    },
    {
     "name": "stderr",
     "output_type": "stream",
     "text": [
      "                                                                                \r"
     ]
    }
   ],
   "source": [
    "w = Window.partitionBy(\"iso_code\").orderBy(F.col(\"date\").desc())\n",
    "df.withColumn('yeastarday',F.lag('new_cases',-1).over(w))\\\n",
    "    .withColumn('delta',F.col('new_cases') - F.col('yeastarday'))\\\n",
    "    .where(F.col('date').between('2021-03-25','2021-03-31'))\\\n",
    "    .where(F.col('iso_code') == 'RUS')\\\n",
    "    .select('date','new_cases','yeastarday', 'delta').show()"
   ]
  },
  {
   "cell_type": "markdown",
   "metadata": {},
   "source": [
    "w = Window.partitionBy(\"iso_code\").orderBy(F.col(\"date\").desc())\n"
   ]
  }
 ],
 "metadata": {
  "interpreter": {
   "hash": "ff113466587e0956fc5d0ba81346aea93f850c8e2bb7ecab9e84b56b3efe2696"
  },
  "kernelspec": {
   "display_name": "Python 3.9.7 ('base')",
   "language": "python",
   "name": "python3"
  },
  "language_info": {
   "codemirror_mode": {
    "name": "ipython",
    "version": 3
   },
   "file_extension": ".py",
   "mimetype": "text/x-python",
   "name": "python",
   "nbconvert_exporter": "python",
   "pygments_lexer": "ipython3",
   "version": "3.9.7"
  },
  "orig_nbformat": 4
 },
 "nbformat": 4,
 "nbformat_minor": 2
}
